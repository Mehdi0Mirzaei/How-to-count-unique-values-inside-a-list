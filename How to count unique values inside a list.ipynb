{
 "cells": [
  {
   "cell_type": "code",
   "execution_count": 11,
   "id": "6cee4af9",
   "metadata": {},
   "outputs": [],
   "source": [
    "def count_unique_list(lst):\n",
    "    lst1=[]\n",
    "    count=0\n",
    "    for item in lst:\n",
    "        if item not in lst1:\n",
    "            count+=1\n",
    "            lst1.append(item)\n",
    "    return count\n",
    "        \n",
    "        "
   ]
  },
  {
   "cell_type": "code",
   "execution_count": 12,
   "id": "8fec73bf",
   "metadata": {},
   "outputs": [],
   "source": [
    "lst2=[1,2,3,3,4,6,2,1,4,6,7,8,9]"
   ]
  },
  {
   "cell_type": "code",
   "execution_count": 14,
   "id": "67be5b5f",
   "metadata": {},
   "outputs": [
    {
     "data": {
      "text/plain": [
       "8"
      ]
     },
     "execution_count": 14,
     "metadata": {},
     "output_type": "execute_result"
    }
   ],
   "source": [
    "count_unique_list(lst2)"
   ]
  },
  {
   "cell_type": "code",
   "execution_count": 15,
   "id": "a26738ef",
   "metadata": {},
   "outputs": [],
   "source": [
    "def count_unique_list2(lst):\n",
    "    l=set(lst)\n",
    "    return len(l)"
   ]
  },
  {
   "cell_type": "code",
   "execution_count": 16,
   "id": "37b6a1af",
   "metadata": {},
   "outputs": [
    {
     "data": {
      "text/plain": [
       "8"
      ]
     },
     "execution_count": 16,
     "metadata": {},
     "output_type": "execute_result"
    }
   ],
   "source": [
    "count_unique_list2(lst2)"
   ]
  },
  {
   "cell_type": "code",
   "execution_count": 23,
   "id": "20e7acbf",
   "metadata": {},
   "outputs": [
    {
     "name": "stdout",
     "output_type": "stream",
     "text": [
      "No of unique items in the list are: 8\n"
     ]
    }
   ],
   "source": [
    "lst2=[1,2,3,3,4,6,2,1,4,6,7,8,9]\n",
    "new_set = [ x for i, x in enumerate(lst2) if x not in lst2[:i]]\n",
    "print(\"No of unique items in the list are:\", len(new_set))"
   ]
  },
  {
   "cell_type": "code",
   "execution_count": null,
   "id": "a0fdbf81",
   "metadata": {},
   "outputs": [],
   "source": []
  }
 ],
 "metadata": {
  "kernelspec": {
   "display_name": "Python 3 (ipykernel)",
   "language": "python",
   "name": "python3"
  },
  "language_info": {
   "codemirror_mode": {
    "name": "ipython",
    "version": 3
   },
   "file_extension": ".py",
   "mimetype": "text/x-python",
   "name": "python",
   "nbconvert_exporter": "python",
   "pygments_lexer": "ipython3",
   "version": "3.9.13"
  }
 },
 "nbformat": 4,
 "nbformat_minor": 5
}
